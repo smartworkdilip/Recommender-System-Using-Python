{
  "cells": [
    {
      "metadata": {
        "_uuid": "86a39e83d74a5656a978c7aee04bd73a115fe19c"
      },
      "cell_type": "markdown",
      "source": "___\n\n<a href='http://www.pieriandata.com'> <img src='../Pierian_Data_Logo.png' /></a>\n___\n# Recommender Systems with Python\n\nWelcome to the code notebook for Recommender Systems with Python.\n\n## Import Libraries"
    },
    {
      "metadata": {
        "trusted": true,
        "_uuid": "60e49225215823d64743d6e3b1bfebebd247050d"
      },
      "cell_type": "code",
      "source": "import numpy as np\nimport pandas as pd",
      "execution_count": null,
      "outputs": []
    },
    {
      "metadata": {
        "_uuid": "e7eb777bf124e48ad869c821b1b79504503515ba"
      },
      "cell_type": "markdown",
      "source": "## Get the Data"
    },
    {
      "metadata": {
        "trusted": true,
        "_uuid": "77071db72d82307b5d87af2ccbe760f15b7bfeab"
      },
      "cell_type": "code",
      "source": "column_names = ['user_id', 'item_id', 'rating', 'timestamp']\ndf = pd.read_csv('../input/udata/u.data', sep='\\t', names=column_names)",
      "execution_count": null,
      "outputs": []
    },
    {
      "metadata": {
        "trusted": true,
        "_uuid": "88ae334be2be336c80b8d5ba9907bffce80a3cda"
      },
      "cell_type": "code",
      "source": "df.head()",
      "execution_count": null,
      "outputs": []
    },
    {
      "metadata": {
        "_uuid": "ae261a5e1a9b546e7f5789f878032f0b86fb59d6"
      },
      "cell_type": "markdown",
      "source": "Now let's get the movie titles:"
    },
    {
      "metadata": {
        "trusted": true,
        "_uuid": "0a23ad6e1a12046b964237271edd17e3864ebc95"
      },
      "cell_type": "code",
      "source": "movie_titles = pd.read_csv('../input/movie-title/Movie_Id_Titles')\nmovie_titles.head()",
      "execution_count": null,
      "outputs": []
    },
    {
      "metadata": {
        "_uuid": "92b276e428cf8bce53cb70f1371dfce813a5e19c"
      },
      "cell_type": "markdown",
      "source": "We can merge them together:"
    },
    {
      "metadata": {
        "trusted": true,
        "_uuid": "adef9b723b04d47d566701ab5fdf5d5cab8da4e1"
      },
      "cell_type": "code",
      "source": "df = pd.merge(df,movie_titles,on='item_id')\ndf.head()",
      "execution_count": null,
      "outputs": []
    },
    {
      "metadata": {
        "_uuid": "92478df9d742f91eb9e7ea83218d5c28baf529fa"
      },
      "cell_type": "markdown",
      "source": "# EDA\n\nLet's explore the data a bit and get a look at some of the best rated movies.\n\n## Visualization Imports"
    },
    {
      "metadata": {
        "trusted": true,
        "_uuid": "e3c898e6af79a650f247ae7dcba86c1175f3c8a9"
      },
      "cell_type": "code",
      "source": "import matplotlib.pyplot as plt\nimport seaborn as sns\nsns.set_style('white')\n%matplotlib inline",
      "execution_count": null,
      "outputs": []
    },
    {
      "metadata": {
        "_uuid": "bfce1d50c50161ae6b4616bdc4eac1b81588672f"
      },
      "cell_type": "markdown",
      "source": "Let's create a ratings dataframe with average rating and number of ratings:"
    },
    {
      "metadata": {
        "trusted": true,
        "_uuid": "dcf8ec53d70ee8df8d3d634736f0d5be480425f3"
      },
      "cell_type": "code",
      "source": "df.groupby('title')['rating'].mean().sort_values(ascending=False).head()",
      "execution_count": null,
      "outputs": []
    },
    {
      "metadata": {
        "trusted": true,
        "_uuid": "d932db877f772668f2bdcd2ea7f0cc209000ea1e"
      },
      "cell_type": "code",
      "source": "df.groupby('title')['rating'].count().sort_values(ascending=False).head()",
      "execution_count": null,
      "outputs": []
    },
    {
      "metadata": {
        "trusted": true,
        "_uuid": "cd08d9bc82243d66af1d40c13ff6ec702dbc0c0c"
      },
      "cell_type": "code",
      "source": "ratings = pd.DataFrame(df.groupby('title')['rating'].mean())\nratings.head()",
      "execution_count": null,
      "outputs": []
    },
    {
      "metadata": {
        "_uuid": "09741ccc9fef93efd574e4ed85f80fbd7422dedc"
      },
      "cell_type": "markdown",
      "source": "Now set the number of ratings column:"
    },
    {
      "metadata": {
        "trusted": true,
        "_uuid": "6c74022107937f16915134c3c4f48962270e2b59"
      },
      "cell_type": "code",
      "source": "ratings['num of ratings'] = pd.DataFrame(df.groupby('title')['rating'].count())\nratings.head()",
      "execution_count": null,
      "outputs": []
    },
    {
      "metadata": {
        "_uuid": "75da63070673182118f50cc380717c59b6bd75a2"
      },
      "cell_type": "markdown",
      "source": "Now a few histograms:"
    },
    {
      "metadata": {
        "trusted": true,
        "_uuid": "20dc1dcc524029aa0758cdbfe1818fa2c5af7103"
      },
      "cell_type": "code",
      "source": "plt.figure(figsize=(10,4))\nratings['num of ratings'].hist(bins=70)",
      "execution_count": null,
      "outputs": []
    },
    {
      "metadata": {
        "trusted": true,
        "_uuid": "3a5d73dbb83c1562010a2ed0d65af3803c9209ff"
      },
      "cell_type": "code",
      "source": "plt.figure(figsize=(10,4))\nratings['rating'].hist(bins=70)",
      "execution_count": null,
      "outputs": []
    },
    {
      "metadata": {
        "trusted": true,
        "_uuid": "f6d8a876797f059b047423f412dcc67676f8b11f"
      },
      "cell_type": "code",
      "source": "sns.jointplot(x='rating',y='num of ratings',data=ratings,alpha=0.5)",
      "execution_count": null,
      "outputs": []
    },
    {
      "metadata": {
        "_uuid": "89859305b4e145545db44f0e74e79f493475538e"
      },
      "cell_type": "markdown",
      "source": "Okay! Now that we have a general idea of what the data looks like, let's move on to creating a simple recommendation system:"
    },
    {
      "metadata": {
        "_uuid": "ca485ee02a424a98361c61f78f8635510318f7a3"
      },
      "cell_type": "markdown",
      "source": "## Recommending Similar Movies"
    },
    {
      "metadata": {
        "_uuid": "80accc3ece5c7ecedf76d80d4af12d1f96f3e6bf"
      },
      "cell_type": "markdown",
      "source": "Now let's create a matrix that has the user ids on one access and the movie title on another axis. Each cell will then consist of the rating the user gave to that movie. Note there will be a lot of NaN values, because most people have not seen most of the movies."
    },
    {
      "metadata": {
        "trusted": true,
        "_uuid": "d07776f5cdf67ec17ff86aaa1b33699270d91b2b"
      },
      "cell_type": "code",
      "source": "moviemat = df.pivot_table(index='user_id',columns='title',values='rating')\nmoviemat.head()",
      "execution_count": null,
      "outputs": []
    },
    {
      "metadata": {
        "_uuid": "5f99214a3a5ae196134196e5970ba027c09bf1df"
      },
      "cell_type": "markdown",
      "source": "Most rated movie:"
    },
    {
      "metadata": {
        "trusted": true,
        "_uuid": "388afa9bd71d8e470f44888b08b14c7b93c2cdf2"
      },
      "cell_type": "code",
      "source": "ratings.sort_values('num of ratings',ascending=False).head(10)",
      "execution_count": null,
      "outputs": []
    },
    {
      "metadata": {
        "_uuid": "195d665f939dab34e2590c4982e17dd839f1c730"
      },
      "cell_type": "markdown",
      "source": "Let's choose two movies: starwars, a sci-fi movie. And Liar Liar, a comedy."
    },
    {
      "metadata": {
        "trusted": true,
        "_uuid": "a8c791cc7e5a707f41e3b72e8b7574b6c1af53dc"
      },
      "cell_type": "code",
      "source": "ratings.head()",
      "execution_count": null,
      "outputs": []
    },
    {
      "metadata": {
        "_uuid": "18506d6670d450e2700c4b260e9b0396b14938de"
      },
      "cell_type": "markdown",
      "source": "Now let's grab the user ratings for those two movies:"
    },
    {
      "metadata": {
        "trusted": true,
        "_uuid": "02ce2ff0437580280d318bdf0e8a8c7e3cc0015b"
      },
      "cell_type": "code",
      "source": "starwars_user_ratings = moviemat['Star Wars (1977)']\nliarliar_user_ratings = moviemat['Liar Liar (1997)']\nstarwars_user_ratings.head()",
      "execution_count": null,
      "outputs": []
    },
    {
      "metadata": {
        "_uuid": "81a0f64ad3b0aae42ef0ed0452258b0b52a8fa30"
      },
      "cell_type": "markdown",
      "source": "We can then use corrwith() method to get correlations between two pandas series:"
    },
    {
      "metadata": {
        "trusted": true,
        "_uuid": "ce3afabd0b2471402799ebd52a4545d0a72d21e2"
      },
      "cell_type": "code",
      "source": "similar_to_starwars = moviemat.corrwith(starwars_user_ratings)\nsimilar_to_liarliar = moviemat.corrwith(liarliar_user_ratings)",
      "execution_count": null,
      "outputs": []
    },
    {
      "metadata": {
        "_uuid": "b85c9078cf89ec1175a0e949dd891abbb0a42e62"
      },
      "cell_type": "markdown",
      "source": "Let's clean this by removing NaN values and using a DataFrame instead of a series:"
    },
    {
      "metadata": {
        "trusted": true,
        "_uuid": "7de6edadadb8b8a57acf7b1501115532ecbafd43"
      },
      "cell_type": "code",
      "source": "corr_starwars = pd.DataFrame(similar_to_starwars,columns=['Correlation'])\ncorr_starwars.dropna(inplace=True)\ncorr_starwars.head()",
      "execution_count": null,
      "outputs": []
    },
    {
      "metadata": {
        "_uuid": "78449d85c59e1ad8c5e77ef594bcc7986f004039"
      },
      "cell_type": "markdown",
      "source": "Now if we sort the dataframe by correlation, we should get the most similar movies, however note that we get some results that don't really make sense. This is because there are a lot of movies only watched once by users who also watched star wars (it was the most popular movie). "
    },
    {
      "metadata": {
        "trusted": true,
        "_uuid": "df361793f59fb941b5c25c1102db6e4e0cd0f95e"
      },
      "cell_type": "code",
      "source": "corr_starwars.sort_values('Correlation',ascending=False).head(10)",
      "execution_count": null,
      "outputs": []
    },
    {
      "metadata": {
        "_uuid": "46a4f9cc40395fe0d8490dc4ca38a28a6d69b141"
      },
      "cell_type": "markdown",
      "source": "Let's fix this by filtering out movies that have less than 100 reviews (this value was chosen based off the histogram from earlier)."
    },
    {
      "metadata": {
        "trusted": true,
        "_uuid": "3929f0c97b494b44428a4060e8db20d1fd8cd825"
      },
      "cell_type": "code",
      "source": "corr_starwars = corr_starwars.join(ratings['num of ratings'])\ncorr_starwars.head()",
      "execution_count": null,
      "outputs": []
    },
    {
      "metadata": {
        "_uuid": "723a360f77912c49d7f4196c24630fbaf00ff58c"
      },
      "cell_type": "markdown",
      "source": "Now sort the values and notice how the titles make a lot more sense:"
    },
    {
      "metadata": {
        "trusted": true,
        "_uuid": "00ef3c7711d54c70ffde7b8b2a33e688beea8990"
      },
      "cell_type": "code",
      "source": "corr_starwars[corr_starwars['num of ratings']>100].sort_values('Correlation',ascending=False).head()",
      "execution_count": null,
      "outputs": []
    },
    {
      "metadata": {
        "_uuid": "4f3f65a0bd0fc8a1024be5ae4011c9873ca72bec"
      },
      "cell_type": "markdown",
      "source": "Now the same for the comedy Liar Liar:"
    },
    {
      "metadata": {
        "trusted": true,
        "_uuid": "f100fb200d8b7d3977c506880657617332070400"
      },
      "cell_type": "code",
      "source": "corr_liarliar = pd.DataFrame(similar_to_liarliar,columns=['Correlation'])\ncorr_liarliar.dropna(inplace=True)\ncorr_liarliar = corr_liarliar.join(ratings['num of ratings'])\ncorr_liarliar[corr_liarliar['num of ratings']>100].sort_values('Correlation',ascending=False).head()",
      "execution_count": null,
      "outputs": []
    },
    {
      "metadata": {
        "_uuid": "da25b81cb4af73050ac259d0492d17d6788b9b70"
      },
      "cell_type": "markdown",
      "source": "# Great Job!"
    },
    {
      "metadata": {
        "trusted": true,
        "_uuid": "ae142adb79f6150145784811a9aeabf9a952b63a"
      },
      "cell_type": "code",
      "source": "",
      "execution_count": null,
      "outputs": []
    }
  ],
  "metadata": {
    "kernelspec": {
      "display_name": "Python 3",
      "language": "python",
      "name": "python3"
    },
    "language_info": {
      "name": "python",
      "version": "3.6.6",
      "mimetype": "text/x-python",
      "codemirror_mode": {
        "name": "ipython",
        "version": 3
      },
      "pygments_lexer": "ipython3",
      "nbconvert_exporter": "python",
      "file_extension": ".py"
    }
  },
  "nbformat": 4,
  "nbformat_minor": 1
}
