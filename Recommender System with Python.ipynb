{
  "cells": [
    {
      "metadata": {
        "_uuid": "86a39e83d74a5656a978c7aee04bd73a115fe19c"
      },
      "cell_type": "markdown",
      "source": "___\n\n<a href='http://www.pieriandata.com'> <img src='../Pierian_Data_Logo.png' /></a>\n___\n# Recommender Systems with Python\n\n\n\n## Import Libraries"
    },
    {
      "metadata": {
        "trusted": true,
        "_uuid": "60e49225215823d64743d6e3b1bfebebd247050d"
      },
      "cell_type": "code",
      "source": "import numpy as np\nimport pandas as pd",
      "execution_count": 1,
      "outputs": []
    },
    {
      "metadata": {
        "_uuid": "e7eb777bf124e48ad869c821b1b79504503515ba"
      },
      "cell_type": "markdown",
      "source": "## Get the Data"
    },
    {
      "metadata": {
        "trusted": true,
        "_uuid": "77071db72d82307b5d87af2ccbe760f15b7bfeab"
      },
      "cell_type": "code",
      "source": "column_names = ['user_id', 'item_id', 'rating', 'timestamp']\ndf = pd.read_csv('../input/udata/u.data', sep='\\t', names=column_names)",
      "execution_count": 2,
      "outputs": []
    },
    {
      "metadata": {
        "trusted": true,
        "_uuid": "88ae334be2be336c80b8d5ba9907bffce80a3cda"
      },
      "cell_type": "code",
      "source": "df.head()",
      "execution_count": 3,
      "outputs": [
        {
          "output_type": "execute_result",
          "execution_count": 3,
          "data": {
            "text/plain": "   user_id  item_id  rating  timestamp\n0        0       50       5  881250949\n1        0      172       5  881250949\n2        0      133       1  881250949\n3      196      242       3  881250949\n4      186      302       3  891717742",
            "text/html": "<div>\n<style scoped>\n    .dataframe tbody tr th:only-of-type {\n        vertical-align: middle;\n    }\n\n    .dataframe tbody tr th {\n        vertical-align: top;\n    }\n\n    .dataframe thead th {\n        text-align: right;\n    }\n</style>\n<table border=\"1\" class=\"dataframe\">\n  <thead>\n    <tr style=\"text-align: right;\">\n      <th></th>\n      <th>user_id</th>\n      <th>item_id</th>\n      <th>rating</th>\n      <th>timestamp</th>\n    </tr>\n  </thead>\n  <tbody>\n    <tr>\n      <th>0</th>\n      <td>0</td>\n      <td>50</td>\n      <td>5</td>\n      <td>881250949</td>\n    </tr>\n    <tr>\n      <th>1</th>\n      <td>0</td>\n      <td>172</td>\n      <td>5</td>\n      <td>881250949</td>\n    </tr>\n    <tr>\n      <th>2</th>\n      <td>0</td>\n      <td>133</td>\n      <td>1</td>\n      <td>881250949</td>\n    </tr>\n    <tr>\n      <th>3</th>\n      <td>196</td>\n      <td>242</td>\n      <td>3</td>\n      <td>881250949</td>\n    </tr>\n    <tr>\n      <th>4</th>\n      <td>186</td>\n      <td>302</td>\n      <td>3</td>\n      <td>891717742</td>\n    </tr>\n  </tbody>\n</table>\n</div>"
          },
          "metadata": {}
        }
      ]
    },
    {
      "metadata": {
        "_uuid": "ae261a5e1a9b546e7f5789f878032f0b86fb59d6"
      },
      "cell_type": "markdown",
      "source": "Now let's get the movie titles:"
    },
    {
      "metadata": {
        "trusted": true,
        "_uuid": "0a23ad6e1a12046b964237271edd17e3864ebc95"
      },
      "cell_type": "code",
      "source": "movie_titles = pd.read_csv('../input/movie-title/Movie_Id_Titles')\nmovie_titles.head()",
      "execution_count": 4,
      "outputs": [
        {
          "output_type": "execute_result",
          "execution_count": 4,
          "data": {
            "text/plain": "   item_id              title\n0        1   Toy Story (1995)\n1        2   GoldenEye (1995)\n2        3  Four Rooms (1995)\n3        4  Get Shorty (1995)\n4        5     Copycat (1995)",
            "text/html": "<div>\n<style scoped>\n    .dataframe tbody tr th:only-of-type {\n        vertical-align: middle;\n    }\n\n    .dataframe tbody tr th {\n        vertical-align: top;\n    }\n\n    .dataframe thead th {\n        text-align: right;\n    }\n</style>\n<table border=\"1\" class=\"dataframe\">\n  <thead>\n    <tr style=\"text-align: right;\">\n      <th></th>\n      <th>item_id</th>\n      <th>title</th>\n    </tr>\n  </thead>\n  <tbody>\n    <tr>\n      <th>0</th>\n      <td>1</td>\n      <td>Toy Story (1995)</td>\n    </tr>\n    <tr>\n      <th>1</th>\n      <td>2</td>\n      <td>GoldenEye (1995)</td>\n    </tr>\n    <tr>\n      <th>2</th>\n      <td>3</td>\n      <td>Four Rooms (1995)</td>\n    </tr>\n    <tr>\n      <th>3</th>\n      <td>4</td>\n      <td>Get Shorty (1995)</td>\n    </tr>\n    <tr>\n      <th>4</th>\n      <td>5</td>\n      <td>Copycat (1995)</td>\n    </tr>\n  </tbody>\n</table>\n</div>"
          },
          "metadata": {}
        }
      ]
    },
    {
      "metadata": {
        "_uuid": "92b276e428cf8bce53cb70f1371dfce813a5e19c"
      },
      "cell_type": "markdown",
      "source": "We can merge them together:"
    },
    {
      "metadata": {
        "trusted": true,
        "_uuid": "adef9b723b04d47d566701ab5fdf5d5cab8da4e1"
      },
      "cell_type": "code",
      "source": "df = pd.merge(df,movie_titles,on='item_id')\ndf.head()",
      "execution_count": 5,
      "outputs": [
        {
          "output_type": "execute_result",
          "execution_count": 5,
          "data": {
            "text/plain": "   user_id  item_id  rating  timestamp             title\n0        0       50       5  881250949  Star Wars (1977)\n1      290       50       5  880473582  Star Wars (1977)\n2       79       50       4  891271545  Star Wars (1977)\n3        2       50       5  888552084  Star Wars (1977)\n4        8       50       5  879362124  Star Wars (1977)",
            "text/html": "<div>\n<style scoped>\n    .dataframe tbody tr th:only-of-type {\n        vertical-align: middle;\n    }\n\n    .dataframe tbody tr th {\n        vertical-align: top;\n    }\n\n    .dataframe thead th {\n        text-align: right;\n    }\n</style>\n<table border=\"1\" class=\"dataframe\">\n  <thead>\n    <tr style=\"text-align: right;\">\n      <th></th>\n      <th>user_id</th>\n      <th>item_id</th>\n      <th>rating</th>\n      <th>timestamp</th>\n      <th>title</th>\n    </tr>\n  </thead>\n  <tbody>\n    <tr>\n      <th>0</th>\n      <td>0</td>\n      <td>50</td>\n      <td>5</td>\n      <td>881250949</td>\n      <td>Star Wars (1977)</td>\n    </tr>\n    <tr>\n      <th>1</th>\n      <td>290</td>\n      <td>50</td>\n      <td>5</td>\n      <td>880473582</td>\n      <td>Star Wars (1977)</td>\n    </tr>\n    <tr>\n      <th>2</th>\n      <td>79</td>\n      <td>50</td>\n      <td>4</td>\n      <td>891271545</td>\n      <td>Star Wars (1977)</td>\n    </tr>\n    <tr>\n      <th>3</th>\n      <td>2</td>\n      <td>50</td>\n      <td>5</td>\n      <td>888552084</td>\n      <td>Star Wars (1977)</td>\n    </tr>\n    <tr>\n      <th>4</th>\n      <td>8</td>\n      <td>50</td>\n      <td>5</td>\n      <td>879362124</td>\n      <td>Star Wars (1977)</td>\n    </tr>\n  </tbody>\n</table>\n</div>"
          },
          "metadata": {}
        }
      ]
    },
    {
      "metadata": {
        "_uuid": "92478df9d742f91eb9e7ea83218d5c28baf529fa"
      },
      "cell_type": "markdown",
      "source": "# EDA\n\nLet's explore the data a bit and get a look at some of the best rated movies.\n\n## Visualization Imports"
    },
    {
      "metadata": {
        "trusted": true,
        "_uuid": "e3c898e6af79a650f247ae7dcba86c1175f3c8a9"
      },
      "cell_type": "code",
      "source": "import matplotlib.pyplot as plt\nimport seaborn as sns\nsns.set_style('white')\n%matplotlib inline",
      "execution_count": 6,
      "outputs": []
    },
    {
      "metadata": {
        "_uuid": "bfce1d50c50161ae6b4616bdc4eac1b81588672f"
      },
      "cell_type": "markdown",
      "source": "Let's create a ratings dataframe with average rating and number of ratings:"
    },
    {
      "metadata": {
        "trusted": true,
        "_uuid": "dcf8ec53d70ee8df8d3d634736f0d5be480425f3"
      },
      "cell_type": "code",
      "source": "df.groupby('title')['rating'].mean().sort_values(ascending=False).head()",
      "execution_count": 7,
      "outputs": [
        {
          "output_type": "execute_result",
          "execution_count": 7,
          "data": {
            "text/plain": "title\nMarlene Dietrich: Shadow and Light (1996)     5.0\nPrefontaine (1997)                            5.0\nSanta with Muscles (1996)                     5.0\nStar Kid (1997)                               5.0\nSomeone Else's America (1995)                 5.0\nName: rating, dtype: float64"
          },
          "metadata": {}
        }
      ]
    },
    {
      "metadata": {
        "trusted": true,
        "_uuid": "d932db877f772668f2bdcd2ea7f0cc209000ea1e"
      },
      "cell_type": "code",
      "source": "df.groupby('title')['rating'].count().sort_values(ascending=False).head()",
      "execution_count": 8,
      "outputs": [
        {
          "output_type": "execute_result",
          "execution_count": 8,
          "data": {
            "text/plain": "title\nStar Wars (1977)             584\nContact (1997)               509\nFargo (1996)                 508\nReturn of the Jedi (1983)    507\nLiar Liar (1997)             485\nName: rating, dtype: int64"
          },
          "metadata": {}
        }
      ]
    },
    {
      "metadata": {
        "trusted": true,
        "_uuid": "cd08d9bc82243d66af1d40c13ff6ec702dbc0c0c"
      },
      "cell_type": "code",
      "source": "ratings = pd.DataFrame(df.groupby('title')['rating'].mean())\nratings.head()",
      "execution_count": 9,
      "outputs": [
        {
          "output_type": "execute_result",
          "execution_count": 9,
          "data": {
            "text/plain": "                             rating\ntitle                              \n'Til There Was You (1997)  2.333333\n1-900 (1994)               2.600000\n101 Dalmatians (1996)      2.908257\n12 Angry Men (1957)        4.344000\n187 (1997)                 3.024390",
            "text/html": "<div>\n<style scoped>\n    .dataframe tbody tr th:only-of-type {\n        vertical-align: middle;\n    }\n\n    .dataframe tbody tr th {\n        vertical-align: top;\n    }\n\n    .dataframe thead th {\n        text-align: right;\n    }\n</style>\n<table border=\"1\" class=\"dataframe\">\n  <thead>\n    <tr style=\"text-align: right;\">\n      <th></th>\n      <th>rating</th>\n    </tr>\n    <tr>\n      <th>title</th>\n      <th></th>\n    </tr>\n  </thead>\n  <tbody>\n    <tr>\n      <th>'Til There Was You (1997)</th>\n      <td>2.333333</td>\n    </tr>\n    <tr>\n      <th>1-900 (1994)</th>\n      <td>2.600000</td>\n    </tr>\n    <tr>\n      <th>101 Dalmatians (1996)</th>\n      <td>2.908257</td>\n    </tr>\n    <tr>\n      <th>12 Angry Men (1957)</th>\n      <td>4.344000</td>\n    </tr>\n    <tr>\n      <th>187 (1997)</th>\n      <td>3.024390</td>\n    </tr>\n  </tbody>\n</table>\n</div>"
          },
          "metadata": {}
        }
      ]
    },
    {
      "metadata": {
        "_uuid": "09741ccc9fef93efd574e4ed85f80fbd7422dedc"
      },
      "cell_type": "markdown",
      "source": "Now set the number of ratings column:"
    },
    {
      "metadata": {
        "trusted": true,
        "_uuid": "6c74022107937f16915134c3c4f48962270e2b59"
      },
      "cell_type": "code",
      "source": "ratings['num of ratings'] = pd.DataFrame(df.groupby('title')['rating'].count())\nratings.head()",
      "execution_count": 10,
      "outputs": [
        {
          "output_type": "execute_result",
          "execution_count": 10,
          "data": {
            "text/plain": "                             rating  num of ratings\ntitle                                              \n'Til There Was You (1997)  2.333333               9\n1-900 (1994)               2.600000               5\n101 Dalmatians (1996)      2.908257             109\n12 Angry Men (1957)        4.344000             125\n187 (1997)                 3.024390              41",
            "text/html": "<div>\n<style scoped>\n    .dataframe tbody tr th:only-of-type {\n        vertical-align: middle;\n    }\n\n    .dataframe tbody tr th {\n        vertical-align: top;\n    }\n\n    .dataframe thead th {\n        text-align: right;\n    }\n</style>\n<table border=\"1\" class=\"dataframe\">\n  <thead>\n    <tr style=\"text-align: right;\">\n      <th></th>\n      <th>rating</th>\n      <th>num of ratings</th>\n    </tr>\n    <tr>\n      <th>title</th>\n      <th></th>\n      <th></th>\n    </tr>\n  </thead>\n  <tbody>\n    <tr>\n      <th>'Til There Was You (1997)</th>\n      <td>2.333333</td>\n      <td>9</td>\n    </tr>\n    <tr>\n      <th>1-900 (1994)</th>\n      <td>2.600000</td>\n      <td>5</td>\n    </tr>\n    <tr>\n      <th>101 Dalmatians (1996)</th>\n      <td>2.908257</td>\n      <td>109</td>\n    </tr>\n    <tr>\n      <th>12 Angry Men (1957)</th>\n      <td>4.344000</td>\n      <td>125</td>\n    </tr>\n    <tr>\n      <th>187 (1997)</th>\n      <td>3.024390</td>\n      <td>41</td>\n    </tr>\n  </tbody>\n</table>\n</div>"
          },
          "metadata": {}
        }
      ]
    },
    {
      "metadata": {
        "_uuid": "75da63070673182118f50cc380717c59b6bd75a2"
      },
      "cell_type": "markdown",
      "source": "Now a few histograms:"
    },
    {
      "metadata": {
        "trusted": true,
        "_uuid": "20dc1dcc524029aa0758cdbfe1818fa2c5af7103"
      },
      "cell_type": "code",
      "source": "plt.figure(figsize=(10,4))\nratings['num of ratings'].hist(bins=70)",
      "execution_count": 11,
      "outputs": [
        {
          "output_type": "execute_result",
          "execution_count": 11,
          "data": {
            "text/plain": "<matplotlib.axes._subplots.AxesSubplot at 0x7f541b21ec88>"
          },
          "metadata": {}
        },
        {
          "output_type": "display_data",
          "data": {
            "text/plain": "<Figure size 720x288 with 1 Axes>",
            "image/png": "[encoded data removed]"
          },
          "metadata": {}
        }
      ]
    },
    {
      "metadata": {
        "trusted": true,
        "_uuid": "3a5d73dbb83c1562010a2ed0d65af3803c9209ff"
      },
      "cell_type": "code",
      "source": "plt.figure(figsize=(10,4))\nratings['rating'].hist(bins=70)",
      "execution_count": 12,
      "outputs": [
        {
          "output_type": "execute_result",
          "execution_count": 12,
          "data": {
            "text/plain": "<matplotlib.axes._subplots.AxesSubplot at 0x7f541ab170f0>"
          },
          "metadata": {}
        },
        {
          "output_type": "display_data",
          "data": {
            "text/plain": "<Figure size 720x288 with 1 Axes>",
            "image/png": "[encoded data removed]"
          },
          "metadata": {}
        }
      ]
    },
    {
      "metadata": {
        "trusted": true,
        "_uuid": "f6d8a876797f059b047423f412dcc67676f8b11f"
      },
      "cell_type": "code",
      "source": "sns.jointplot(x='rating',y='num of ratings',data=ratings,alpha=0.5)",
      "execution_count": 13,
      "outputs": [
        {
          "output_type": "stream",
          "text": "/opt/conda/lib/python3.6/site-packages/scipy/stats/stats.py:1713: FutureWarning: Using a non-tuple sequence for multidimensional indexing is deprecated; use `arr[tuple(seq)]` instead of `arr[seq]`. In the future this will be interpreted as an array index, `arr[np.array(seq)]`, which will result either in an error or a different result.\n  return np.add.reduce(sorted[indexer] * weights, axis=axis) / sumval\n",
          "name": "stderr"
        },
        {
          "output_type": "execute_result",
          "execution_count": 13,
          "data": {
            "text/plain": "<seaborn.axisgrid.JointGrid at 0x7f5409216780>"
          },
          "metadata": {}
        },
        {
          "output_type": "display_data",
          "data": {
            "text/plain": "<Figure size 432x432 with 3 Axes>",
            "image/png": "[encoded data removed]"
          },
          "metadata": {}
        }
      ]
    },
    {
      "metadata": {
        "_uuid": "89859305b4e145545db44f0e74e79f493475538e"
      },
      "cell_type": "markdown",
      "source": "Okay! Now that we have a general idea of what the data looks like, let's move on to creating a simple recommendation system:"
    },
    {
      "metadata": {
        "_uuid": "ca485ee02a424a98361c61f78f8635510318f7a3"
      },
      "cell_type": "markdown",
      "source": "## Recommending Similar Movies"
    },
    {
      "metadata": {
        "_uuid": "80accc3ece5c7ecedf76d80d4af12d1f96f3e6bf"
      },
      "cell_type": "markdown",
      "source": "Now let's create a matrix that has the user ids on one access and the movie title on another axis. Each cell will then consist of the rating the user gave to that movie. Note there will be a lot of NaN values, because most people have not seen most of the movies."
    },
    {
      "metadata": {
        "trusted": true,
        "_uuid": "d07776f5cdf67ec17ff86aaa1b33699270d91b2b"
      },
      "cell_type": "code",
      "source": "moviemat = df.pivot_table(index='user_id',columns='title',values='rating')\nmoviemat.head()",
      "execution_count": 14,
      "outputs": [
        {
          "output_type": "execute_result",
          "execution_count": 14,
          "data": {
            "text/plain": "title    'Til There Was You (1997)                 ...                  Á köldum klaka (Cold Fever) (1994)\nuser_id                                            ...                                                    \n0                              NaN                 ...                                                 NaN\n1                              NaN                 ...                                                 NaN\n2                              NaN                 ...                                                 NaN\n3                              NaN                 ...                                                 NaN\n4                              NaN                 ...                                                 NaN\n\n[5 rows x 1664 columns]",
            "text/html": "<div>\n<style scoped>\n    .dataframe tbody tr th:only-of-type {\n        vertical-align: middle;\n    }\n\n    .dataframe tbody tr th {\n        vertical-align: top;\n    }\n\n    .dataframe thead th {\n        text-align: right;\n    }\n</style>\n<table border=\"1\" class=\"dataframe\">\n  <thead>\n    <tr style=\"text-align: right;\">\n      <th>title</th>\n      <th>'Til There Was You (1997)</th>\n      <th>1-900 (1994)</th>\n      <th>101 Dalmatians (1996)</th>\n      <th>12 Angry Men (1957)</th>\n      <th>187 (1997)</th>\n      <th>2 Days in the Valley (1996)</th>\n      <th>20,000 Leagues Under the Sea (1954)</th>\n      <th>2001: A Space Odyssey (1968)</th>\n      <th>3 Ninjas: High Noon At Mega Mountain (1998)</th>\n      <th>39 Steps, The (1935)</th>\n      <th>8 1/2 (1963)</th>\n      <th>8 Heads in a Duffel Bag (1997)</th>\n      <th>8 Seconds (1994)</th>\n      <th>A Chef in Love (1996)</th>\n      <th>Above the Rim (1994)</th>\n      <th>Absolute Power (1997)</th>\n      <th>Abyss, The (1989)</th>\n      <th>Ace Ventura: Pet Detective (1994)</th>\n      <th>Ace Ventura: When Nature Calls (1995)</th>\n      <th>Across the Sea of Time (1995)</th>\n      <th>Addams Family Values (1993)</th>\n      <th>Addicted to Love (1997)</th>\n      <th>Addiction, The (1995)</th>\n      <th>Adventures of Pinocchio, The (1996)</th>\n      <th>Adventures of Priscilla, Queen of the Desert, The (1994)</th>\n      <th>Adventures of Robin Hood, The (1938)</th>\n      <th>Affair to Remember, An (1957)</th>\n      <th>African Queen, The (1951)</th>\n      <th>Afterglow (1997)</th>\n      <th>Age of Innocence, The (1993)</th>\n      <th>Aiqing wansui (1994)</th>\n      <th>Air Bud (1997)</th>\n      <th>Air Force One (1997)</th>\n      <th>Air Up There, The (1994)</th>\n      <th>Airheads (1994)</th>\n      <th>Akira (1988)</th>\n      <th>Aladdin (1992)</th>\n      <th>Aladdin and the King of Thieves (1996)</th>\n      <th>Alaska (1996)</th>\n      <th>Albino Alligator (1996)</th>\n      <th>...</th>\n      <th>Whole Wide World, The (1996)</th>\n      <th>Widows' Peak (1994)</th>\n      <th>Wife, The (1995)</th>\n      <th>Wild America (1997)</th>\n      <th>Wild Bill (1995)</th>\n      <th>Wild Bunch, The (1969)</th>\n      <th>Wild Reeds (1994)</th>\n      <th>Wild Things (1998)</th>\n      <th>William Shakespeare's Romeo and Juliet (1996)</th>\n      <th>Willy Wonka and the Chocolate Factory (1971)</th>\n      <th>Window to Paris (1994)</th>\n      <th>Wings of Courage (1995)</th>\n      <th>Wings of Desire (1987)</th>\n      <th>Wings of the Dove, The (1997)</th>\n      <th>Winnie the Pooh and the Blustery Day (1968)</th>\n      <th>Winter Guest, The (1997)</th>\n      <th>Wishmaster (1997)</th>\n      <th>With Honors (1994)</th>\n      <th>Withnail and I (1987)</th>\n      <th>Witness (1985)</th>\n      <th>Wizard of Oz, The (1939)</th>\n      <th>Wolf (1994)</th>\n      <th>Woman in Question, The (1950)</th>\n      <th>Women, The (1939)</th>\n      <th>Wonderful, Horrible Life of Leni Riefenstahl, The (1993)</th>\n      <th>Wonderland (1997)</th>\n      <th>Wooden Man's Bride, The (Wu Kui) (1994)</th>\n      <th>World of Apu, The (Apur Sansar) (1959)</th>\n      <th>Wrong Trousers, The (1993)</th>\n      <th>Wyatt Earp (1994)</th>\n      <th>Yankee Zulu (1994)</th>\n      <th>Year of the Horse (1997)</th>\n      <th>You So Crazy (1994)</th>\n      <th>Young Frankenstein (1974)</th>\n      <th>Young Guns (1988)</th>\n      <th>Young Guns II (1990)</th>\n      <th>Young Poisoner's Handbook, The (1995)</th>\n      <th>Zeus and Roxanne (1997)</th>\n      <th>unknown</th>\n      <th>Á köldum klaka (Cold Fever) (1994)</th>\n    </tr>\n    <tr>\n      <th>user_id</th>\n      <th></th>\n      <th></th>\n      <th></th>\n      <th></th>\n      <th></th>\n      <th></th>\n      <th></th>\n      <th></th>\n      <th></th>\n      <th></th>\n      <th></th>\n      <th></th>\n      <th></th>\n      <th></th>\n      <th></th>\n      <th></th>\n      <th></th>\n      <th></th>\n      <th></th>\n      <th></th>\n      <th></th>\n      <th></th>\n      <th></th>\n      <th></th>\n      <th></th>\n      <th></th>\n      <th></th>\n      <th></th>\n      <th></th>\n      <th></th>\n      <th></th>\n      <th></th>\n      <th></th>\n      <th></th>\n      <th></th>\n      <th></th>\n      <th></th>\n      <th></th>\n      <th></th>\n      <th></th>\n      <th></th>\n      <th></th>\n      <th></th>\n      <th></th>\n      <th></th>\n      <th></th>\n      <th></th>\n      <th></th>\n      <th></th>\n      <th></th>\n      <th></th>\n      <th></th>\n      <th></th>\n      <th></th>\n      <th></th>\n      <th></th>\n      <th></th>\n      <th></th>\n      <th></th>\n      <th></th>\n      <th></th>\n      <th></th>\n      <th></th>\n      <th></th>\n      <th></th>\n      <th></th>\n      <th></th>\n      <th></th>\n      <th></th>\n      <th></th>\n      <th></th>\n      <th></th>\n      <th></th>\n      <th></th>\n      <th></th>\n      <th></th>\n      <th></th>\n      <th></th>\n      <th></th>\n      <th></th>\n      <th></th>\n    </tr>\n  </thead>\n  <tbody>\n    <tr>\n      <th>0</th>\n      <td>NaN</td>\n      <td>NaN</td>\n      <td>NaN</td>\n      <td>NaN</td>\n      <td>NaN</td>\n      <td>NaN</td>\n      <td>NaN</td>\n      <td>NaN</td>\n      <td>NaN</td>\n      <td>NaN</td>\n      <td>NaN</td>\n      <td>NaN</td>\n      <td>NaN</td>\n      <td>NaN</td>\n      <td>NaN</td>\n      <td>NaN</td>\n      <td>NaN</td>\n      <td>NaN</td>\n      <td>NaN</td>\n      <td>NaN</td>\n      <td>NaN</td>\n      <td>NaN</td>\n      <td>NaN</td>\n      <td>NaN</td>\n      <td>NaN</td>\n      <td>NaN</td>\n      <td>NaN</td>\n      <td>NaN</td>\n      <td>NaN</td>\n      <td>NaN</td>\n      <td>NaN</td>\n      <td>NaN</td>\n      <td>NaN</td>\n      <td>NaN</td>\n      <td>NaN</td>\n      <td>NaN</td>\n      <td>NaN</td>\n      <td>NaN</td>\n      <td>NaN</td>\n      <td>NaN</td>\n      <td>...</td>\n      <td>NaN</td>\n      <td>NaN</td>\n      <td>NaN</td>\n      <td>NaN</td>\n      <td>NaN</td>\n      <td>NaN</td>\n      <td>NaN</td>\n      <td>NaN</td>\n      <td>NaN</td>\n      <td>NaN</td>\n      <td>NaN</td>\n      <td>NaN</td>\n      <td>NaN</td>\n      <td>NaN</td>\n      <td>NaN</td>\n      <td>NaN</td>\n      <td>NaN</td>\n      <td>NaN</td>\n      <td>NaN</td>\n      <td>NaN</td>\n      <td>NaN</td>\n      <td>NaN</td>\n      <td>NaN</td>\n      <td>NaN</td>\n      <td>NaN</td>\n      <td>NaN</td>\n      <td>NaN</td>\n      <td>NaN</td>\n      <td>NaN</td>\n      <td>NaN</td>\n      <td>NaN</td>\n      <td>NaN</td>\n      <td>NaN</td>\n      <td>NaN</td>\n      <td>NaN</td>\n      <td>NaN</td>\n      <td>NaN</td>\n      <td>NaN</td>\n      <td>NaN</td>\n      <td>NaN</td>\n    </tr>\n    <tr>\n      <th>1</th>\n      <td>NaN</td>\n      <td>NaN</td>\n      <td>2.0</td>\n      <td>5.0</td>\n      <td>NaN</td>\n      <td>NaN</td>\n      <td>3.0</td>\n      <td>4.0</td>\n      <td>NaN</td>\n      <td>NaN</td>\n      <td>NaN</td>\n      <td>NaN</td>\n      <td>NaN</td>\n      <td>NaN</td>\n      <td>NaN</td>\n      <td>NaN</td>\n      <td>3.0</td>\n      <td>3.0</td>\n      <td>NaN</td>\n      <td>NaN</td>\n      <td>NaN</td>\n      <td>NaN</td>\n      <td>NaN</td>\n      <td>NaN</td>\n      <td>NaN</td>\n      <td>NaN</td>\n      <td>NaN</td>\n      <td>NaN</td>\n      <td>NaN</td>\n      <td>NaN</td>\n      <td>NaN</td>\n      <td>1.0</td>\n      <td>NaN</td>\n      <td>NaN</td>\n      <td>NaN</td>\n      <td>4.0</td>\n      <td>4.0</td>\n      <td>NaN</td>\n      <td>NaN</td>\n      <td>NaN</td>\n      <td>...</td>\n      <td>NaN</td>\n      <td>NaN</td>\n      <td>NaN</td>\n      <td>NaN</td>\n      <td>NaN</td>\n      <td>NaN</td>\n      <td>NaN</td>\n      <td>NaN</td>\n      <td>NaN</td>\n      <td>4.0</td>\n      <td>NaN</td>\n      <td>NaN</td>\n      <td>NaN</td>\n      <td>NaN</td>\n      <td>NaN</td>\n      <td>NaN</td>\n      <td>NaN</td>\n      <td>NaN</td>\n      <td>NaN</td>\n      <td>NaN</td>\n      <td>4.0</td>\n      <td>NaN</td>\n      <td>NaN</td>\n      <td>NaN</td>\n      <td>NaN</td>\n      <td>NaN</td>\n      <td>NaN</td>\n      <td>NaN</td>\n      <td>5.0</td>\n      <td>NaN</td>\n      <td>NaN</td>\n      <td>NaN</td>\n      <td>NaN</td>\n      <td>5.0</td>\n      <td>3.0</td>\n      <td>NaN</td>\n      <td>NaN</td>\n      <td>NaN</td>\n      <td>4.0</td>\n      <td>NaN</td>\n    </tr>\n    <tr>\n      <th>2</th>\n      <td>NaN</td>\n      <td>NaN</td>\n      <td>NaN</td>\n      <td>NaN</td>\n      <td>NaN</td>\n      <td>NaN</td>\n      <td>NaN</td>\n      <td>NaN</td>\n      <td>1.0</td>\n      <td>NaN</td>\n      <td>NaN</td>\n      <td>NaN</td>\n      <td>NaN</td>\n      <td>NaN</td>\n      <td>NaN</td>\n      <td>3.0</td>\n      <td>NaN</td>\n      <td>NaN</td>\n      <td>NaN</td>\n      <td>NaN</td>\n      <td>NaN</td>\n      <td>NaN</td>\n      <td>NaN</td>\n      <td>NaN</td>\n      <td>NaN</td>\n      <td>NaN</td>\n      <td>NaN</td>\n      <td>NaN</td>\n      <td>NaN</td>\n      <td>NaN</td>\n      <td>NaN</td>\n      <td>NaN</td>\n      <td>4.0</td>\n      <td>NaN</td>\n      <td>NaN</td>\n      <td>NaN</td>\n      <td>NaN</td>\n      <td>NaN</td>\n      <td>NaN</td>\n      <td>NaN</td>\n      <td>...</td>\n      <td>NaN</td>\n      <td>NaN</td>\n      <td>NaN</td>\n      <td>NaN</td>\n      <td>NaN</td>\n      <td>NaN</td>\n      <td>NaN</td>\n      <td>NaN</td>\n      <td>NaN</td>\n      <td>NaN</td>\n      <td>NaN</td>\n      <td>NaN</td>\n      <td>NaN</td>\n      <td>5.0</td>\n      <td>NaN</td>\n      <td>NaN</td>\n      <td>NaN</td>\n      <td>NaN</td>\n      <td>NaN</td>\n      <td>NaN</td>\n      <td>NaN</td>\n      <td>NaN</td>\n      <td>NaN</td>\n      <td>NaN</td>\n      <td>NaN</td>\n      <td>NaN</td>\n      <td>NaN</td>\n      <td>NaN</td>\n      <td>NaN</td>\n      <td>NaN</td>\n      <td>NaN</td>\n      <td>NaN</td>\n      <td>NaN</td>\n      <td>NaN</td>\n      <td>NaN</td>\n      <td>NaN</td>\n      <td>NaN</td>\n      <td>NaN</td>\n      <td>NaN</td>\n      <td>NaN</td>\n    </tr>\n    <tr>\n      <th>3</th>\n      <td>NaN</td>\n      <td>NaN</td>\n      <td>NaN</td>\n      <td>NaN</td>\n      <td>2.0</td>\n      <td>NaN</td>\n      <td>NaN</td>\n      <td>NaN</td>\n      <td>NaN</td>\n      <td>NaN</td>\n      <td>NaN</td>\n      <td>NaN</td>\n      <td>NaN</td>\n      <td>NaN</td>\n      <td>NaN</td>\n      <td>NaN</td>\n      <td>NaN</td>\n      <td>NaN</td>\n      <td>NaN</td>\n      <td>NaN</td>\n      <td>NaN</td>\n      <td>NaN</td>\n      <td>NaN</td>\n      <td>NaN</td>\n      <td>NaN</td>\n      <td>NaN</td>\n      <td>NaN</td>\n      <td>NaN</td>\n      <td>NaN</td>\n      <td>NaN</td>\n      <td>NaN</td>\n      <td>NaN</td>\n      <td>2.0</td>\n      <td>NaN</td>\n      <td>NaN</td>\n      <td>NaN</td>\n      <td>NaN</td>\n      <td>NaN</td>\n      <td>NaN</td>\n      <td>NaN</td>\n      <td>...</td>\n      <td>NaN</td>\n      <td>NaN</td>\n      <td>NaN</td>\n      <td>NaN</td>\n      <td>NaN</td>\n      <td>NaN</td>\n      <td>NaN</td>\n      <td>NaN</td>\n      <td>NaN</td>\n      <td>NaN</td>\n      <td>NaN</td>\n      <td>NaN</td>\n      <td>NaN</td>\n      <td>NaN</td>\n      <td>NaN</td>\n      <td>NaN</td>\n      <td>NaN</td>\n      <td>NaN</td>\n      <td>NaN</td>\n      <td>NaN</td>\n      <td>NaN</td>\n      <td>NaN</td>\n      <td>NaN</td>\n      <td>NaN</td>\n      <td>NaN</td>\n      <td>NaN</td>\n      <td>NaN</td>\n      <td>NaN</td>\n      <td>NaN</td>\n      <td>NaN</td>\n      <td>NaN</td>\n      <td>NaN</td>\n      <td>NaN</td>\n      <td>NaN</td>\n      <td>NaN</td>\n      <td>NaN</td>\n      <td>NaN</td>\n      <td>NaN</td>\n      <td>NaN</td>\n      <td>NaN</td>\n    </tr>\n    <tr>\n      <th>4</th>\n      <td>NaN</td>\n      <td>NaN</td>\n      <td>NaN</td>\n      <td>NaN</td>\n      <td>NaN</td>\n      <td>NaN</td>\n      <td>NaN</td>\n      <td>NaN</td>\n      <td>NaN</td>\n      <td>NaN</td>\n      <td>NaN</td>\n      <td>NaN</td>\n      <td>NaN</td>\n      <td>NaN</td>\n      <td>NaN</td>\n      <td>NaN</td>\n      <td>NaN</td>\n      <td>NaN</td>\n      <td>NaN</td>\n      <td>NaN</td>\n      <td>NaN</td>\n      <td>NaN</td>\n      <td>NaN</td>\n      <td>NaN</td>\n      <td>NaN</td>\n      <td>NaN</td>\n      <td>NaN</td>\n      <td>NaN</td>\n      <td>NaN</td>\n      <td>NaN</td>\n      <td>NaN</td>\n      <td>NaN</td>\n      <td>5.0</td>\n      <td>NaN</td>\n      <td>NaN</td>\n      <td>NaN</td>\n      <td>NaN</td>\n      <td>NaN</td>\n      <td>NaN</td>\n      <td>NaN</td>\n      <td>...</td>\n      <td>NaN</td>\n      <td>NaN</td>\n      <td>NaN</td>\n      <td>NaN</td>\n      <td>NaN</td>\n      <td>NaN</td>\n      <td>NaN</td>\n      <td>NaN</td>\n      <td>NaN</td>\n      <td>NaN</td>\n      <td>NaN</td>\n      <td>NaN</td>\n      <td>NaN</td>\n      <td>NaN</td>\n      <td>NaN</td>\n      <td>NaN</td>\n      <td>NaN</td>\n      <td>NaN</td>\n      <td>NaN</td>\n      <td>NaN</td>\n      <td>NaN</td>\n      <td>NaN</td>\n      <td>NaN</td>\n      <td>NaN</td>\n      <td>NaN</td>\n      <td>5.0</td>\n      <td>NaN</td>\n      <td>NaN</td>\n      <td>NaN</td>\n      <td>NaN</td>\n      <td>NaN</td>\n      <td>NaN</td>\n      <td>NaN</td>\n      <td>NaN</td>\n      <td>NaN</td>\n      <td>NaN</td>\n      <td>NaN</td>\n      <td>NaN</td>\n      <td>NaN</td>\n      <td>NaN</td>\n    </tr>\n  </tbody>\n</table>\n</div>"
          },
          "metadata": {}
        }
      ]
    },
    {
      "metadata": {
        "_uuid": "5f99214a3a5ae196134196e5970ba027c09bf1df"
      },
      "cell_type": "markdown",
      "source": "Most rated movie:"
    },
    {
      "metadata": {
        "trusted": true,
        "_uuid": "388afa9bd71d8e470f44888b08b14c7b93c2cdf2"
      },
      "cell_type": "code",
      "source": "ratings.sort_values('num of ratings',ascending=False).head(10)",
      "execution_count": 15,
      "outputs": [
        {
          "output_type": "execute_result",
          "execution_count": 15,
          "data": {
            "text/plain": "                                 rating  num of ratings\ntitle                                                  \nStar Wars (1977)               4.359589             584\nContact (1997)                 3.803536             509\nFargo (1996)                   4.155512             508\nReturn of the Jedi (1983)      4.007890             507\nLiar Liar (1997)               3.156701             485\nEnglish Patient, The (1996)    3.656965             481\nScream (1996)                  3.441423             478\nToy Story (1995)               3.878319             452\nAir Force One (1997)           3.631090             431\nIndependence Day (ID4) (1996)  3.438228             429",
            "text/html": "<div>\n<style scoped>\n    .dataframe tbody tr th:only-of-type {\n        vertical-align: middle;\n    }\n\n    .dataframe tbody tr th {\n        vertical-align: top;\n    }\n\n    .dataframe thead th {\n        text-align: right;\n    }\n</style>\n<table border=\"1\" class=\"dataframe\">\n  <thead>\n    <tr style=\"text-align: right;\">\n      <th></th>\n      <th>rating</th>\n      <th>num of ratings</th>\n    </tr>\n    <tr>\n      <th>title</th>\n      <th></th>\n      <th></th>\n    </tr>\n  </thead>\n  <tbody>\n    <tr>\n      <th>Star Wars (1977)</th>\n      <td>4.359589</td>\n      <td>584</td>\n    </tr>\n    <tr>\n      <th>Contact (1997)</th>\n      <td>3.803536</td>\n      <td>509</td>\n    </tr>\n    <tr>\n      <th>Fargo (1996)</th>\n      <td>4.155512</td>\n      <td>508</td>\n    </tr>\n    <tr>\n      <th>Return of the Jedi (1983)</th>\n      <td>4.007890</td>\n      <td>507</td>\n    </tr>\n    <tr>\n      <th>Liar Liar (1997)</th>\n      <td>3.156701</td>\n      <td>485</td>\n    </tr>\n    <tr>\n      <th>English Patient, The (1996)</th>\n      <td>3.656965</td>\n      <td>481</td>\n    </tr>\n    <tr>\n      <th>Scream (1996)</th>\n      <td>3.441423</td>\n      <td>478</td>\n    </tr>\n    <tr>\n      <th>Toy Story (1995)</th>\n      <td>3.878319</td>\n      <td>452</td>\n    </tr>\n    <tr>\n      <th>Air Force One (1997)</th>\n      <td>3.631090</td>\n      <td>431</td>\n    </tr>\n    <tr>\n      <th>Independence Day (ID4) (1996)</th>\n      <td>3.438228</td>\n      <td>429</td>\n    </tr>\n  </tbody>\n</table>\n</div>"
          },
          "metadata": {}
        }
      ]
    },
    {
      "metadata": {
        "_uuid": "195d665f939dab34e2590c4982e17dd839f1c730"
      },
      "cell_type": "markdown",
      "source": "Let's choose two movies: starwars, a sci-fi movie. And Liar Liar, a comedy."
    },
    {
      "metadata": {
        "trusted": true,
        "_uuid": "a8c791cc7e5a707f41e3b72e8b7574b6c1af53dc"
      },
      "cell_type": "code",
      "source": "ratings.head()",
      "execution_count": 16,
      "outputs": [
        {
          "output_type": "execute_result",
          "execution_count": 16,
          "data": {
            "text/plain": "                             rating  num of ratings\ntitle                                              \n'Til There Was You (1997)  2.333333               9\n1-900 (1994)               2.600000               5\n101 Dalmatians (1996)      2.908257             109\n12 Angry Men (1957)        4.344000             125\n187 (1997)                 3.024390              41",
            "text/html": "<div>\n<style scoped>\n    .dataframe tbody tr th:only-of-type {\n        vertical-align: middle;\n    }\n\n    .dataframe tbody tr th {\n        vertical-align: top;\n    }\n\n    .dataframe thead th {\n        text-align: right;\n    }\n</style>\n<table border=\"1\" class=\"dataframe\">\n  <thead>\n    <tr style=\"text-align: right;\">\n      <th></th>\n      <th>rating</th>\n      <th>num of ratings</th>\n    </tr>\n    <tr>\n      <th>title</th>\n      <th></th>\n      <th></th>\n    </tr>\n  </thead>\n  <tbody>\n    <tr>\n      <th>'Til There Was You (1997)</th>\n      <td>2.333333</td>\n      <td>9</td>\n    </tr>\n    <tr>\n      <th>1-900 (1994)</th>\n      <td>2.600000</td>\n      <td>5</td>\n    </tr>\n    <tr>\n      <th>101 Dalmatians (1996)</th>\n      <td>2.908257</td>\n      <td>109</td>\n    </tr>\n    <tr>\n      <th>12 Angry Men (1957)</th>\n      <td>4.344000</td>\n      <td>125</td>\n    </tr>\n    <tr>\n      <th>187 (1997)</th>\n      <td>3.024390</td>\n      <td>41</td>\n    </tr>\n  </tbody>\n</table>\n</div>"
          },
          "metadata": {}
        }
      ]
    },
    {
      "metadata": {
        "_uuid": "18506d6670d450e2700c4b260e9b0396b14938de"
      },
      "cell_type": "markdown",
      "source": "Now let's grab the user ratings for those two movies:"
    },
    {
      "metadata": {
        "trusted": true,
        "_uuid": "02ce2ff0437580280d318bdf0e8a8c7e3cc0015b"
      },
      "cell_type": "code",
      "source": "starwars_user_ratings = moviemat['Star Wars (1977)']\nliarliar_user_ratings = moviemat['Liar Liar (1997)']\nstarwars_user_ratings.head()",
      "execution_count": 17,
      "outputs": [
        {
          "output_type": "execute_result",
          "execution_count": 17,
          "data": {
            "text/plain": "user_id\n0    5.0\n1    5.0\n2    5.0\n3    NaN\n4    5.0\nName: Star Wars (1977), dtype: float64"
          },
          "metadata": {}
        }
      ]
    },
    {
      "metadata": {
        "_uuid": "81a0f64ad3b0aae42ef0ed0452258b0b52a8fa30"
      },
      "cell_type": "markdown",
      "source": "We can then use corrwith() method to get correlations between two pandas series:"
    },
    {
      "metadata": {
        "trusted": true,
        "_uuid": "ce3afabd0b2471402799ebd52a4545d0a72d21e2"
      },
      "cell_type": "code",
      "source": "similar_to_starwars = moviemat.corrwith(starwars_user_ratings)\nsimilar_to_liarliar = moviemat.corrwith(liarliar_user_ratings)",
      "execution_count": 18,
      "outputs": [
        {
          "output_type": "stream",
          "text": "/opt/conda/lib/python3.6/site-packages/numpy/lib/function_base.py:2392: RuntimeWarning: Degrees of freedom <= 0 for slice\n  c = cov(x, y, rowvar)\n/opt/conda/lib/python3.6/site-packages/numpy/lib/function_base.py:2326: RuntimeWarning: divide by zero encountered in true_divide\n  c *= np.true_divide(1, fact)\n",
          "name": "stderr"
        }
      ]
    },
    {
      "metadata": {
        "_uuid": "b85c9078cf89ec1175a0e949dd891abbb0a42e62"
      },
      "cell_type": "markdown",
      "source": "Let's clean this by removing NaN values and using a DataFrame instead of a series:"
    },
    {
      "metadata": {
        "trusted": true,
        "_uuid": "7de6edadadb8b8a57acf7b1501115532ecbafd43"
      },
      "cell_type": "code",
      "source": "corr_starwars = pd.DataFrame(similar_to_starwars,columns=['Correlation'])\ncorr_starwars.dropna(inplace=True)\ncorr_starwars.head()",
      "execution_count": 19,
      "outputs": [
        {
          "output_type": "execute_result",
          "execution_count": 19,
          "data": {
            "text/plain": "                           Correlation\ntitle                                 \n'Til There Was You (1997)     0.872872\n1-900 (1994)                 -0.645497\n101 Dalmatians (1996)         0.211132\n12 Angry Men (1957)           0.184289\n187 (1997)                    0.027398",
            "text/html": "<div>\n<style scoped>\n    .dataframe tbody tr th:only-of-type {\n        vertical-align: middle;\n    }\n\n    .dataframe tbody tr th {\n        vertical-align: top;\n    }\n\n    .dataframe thead th {\n        text-align: right;\n    }\n</style>\n<table border=\"1\" class=\"dataframe\">\n  <thead>\n    <tr style=\"text-align: right;\">\n      <th></th>\n      <th>Correlation</th>\n    </tr>\n    <tr>\n      <th>title</th>\n      <th></th>\n    </tr>\n  </thead>\n  <tbody>\n    <tr>\n      <th>'Til There Was You (1997)</th>\n      <td>0.872872</td>\n    </tr>\n    <tr>\n      <th>1-900 (1994)</th>\n      <td>-0.645497</td>\n    </tr>\n    <tr>\n      <th>101 Dalmatians (1996)</th>\n      <td>0.211132</td>\n    </tr>\n    <tr>\n      <th>12 Angry Men (1957)</th>\n      <td>0.184289</td>\n    </tr>\n    <tr>\n      <th>187 (1997)</th>\n      <td>0.027398</td>\n    </tr>\n  </tbody>\n</table>\n</div>"
          },
          "metadata": {}
        }
      ]
    },
    {
      "metadata": {
        "_uuid": "78449d85c59e1ad8c5e77ef594bcc7986f004039"
      },
      "cell_type": "markdown",
      "source": "Now if we sort the dataframe by correlation, we should get the most similar movies, however note that we get some results that don't really make sense. This is because there are a lot of movies only watched once by users who also watched star wars (it was the most popular movie). "
    },
    {
      "metadata": {
        "trusted": true,
        "_uuid": "df361793f59fb941b5c25c1102db6e4e0cd0f95e"
      },
      "cell_type": "code",
      "source": "corr_starwars.sort_values('Correlation',ascending=False).head(10)",
      "execution_count": 20,
      "outputs": [
        {
          "output_type": "execute_result",
          "execution_count": 20,
          "data": {
            "text/plain": "                                                    Correlation\ntitle                                                          \nHollow Reed (1996)                                          1.0\nCommandments (1997)                                         1.0\nCosi (1996)                                                 1.0\nNo Escape (1994)                                            1.0\nStripes (1981)                                              1.0\nStar Wars (1977)                                            1.0\nMan of the Year (1995)                                      1.0\nBeans of Egypt, Maine, The (1994)                           1.0\nOld Lady Who Walked in the Sea, The (Vieille qu...          1.0\nOutlaw, The (1943)                                          1.0",
            "text/html": "<div>\n<style scoped>\n    .dataframe tbody tr th:only-of-type {\n        vertical-align: middle;\n    }\n\n    .dataframe tbody tr th {\n        vertical-align: top;\n    }\n\n    .dataframe thead th {\n        text-align: right;\n    }\n</style>\n<table border=\"1\" class=\"dataframe\">\n  <thead>\n    <tr style=\"text-align: right;\">\n      <th></th>\n      <th>Correlation</th>\n    </tr>\n    <tr>\n      <th>title</th>\n      <th></th>\n    </tr>\n  </thead>\n  <tbody>\n    <tr>\n      <th>Hollow Reed (1996)</th>\n      <td>1.0</td>\n    </tr>\n    <tr>\n      <th>Commandments (1997)</th>\n      <td>1.0</td>\n    </tr>\n    <tr>\n      <th>Cosi (1996)</th>\n      <td>1.0</td>\n    </tr>\n    <tr>\n      <th>No Escape (1994)</th>\n      <td>1.0</td>\n    </tr>\n    <tr>\n      <th>Stripes (1981)</th>\n      <td>1.0</td>\n    </tr>\n    <tr>\n      <th>Star Wars (1977)</th>\n      <td>1.0</td>\n    </tr>\n    <tr>\n      <th>Man of the Year (1995)</th>\n      <td>1.0</td>\n    </tr>\n    <tr>\n      <th>Beans of Egypt, Maine, The (1994)</th>\n      <td>1.0</td>\n    </tr>\n    <tr>\n      <th>Old Lady Who Walked in the Sea, The (Vieille qui marchait dans la mer, La) (1991)</th>\n      <td>1.0</td>\n    </tr>\n    <tr>\n      <th>Outlaw, The (1943)</th>\n      <td>1.0</td>\n    </tr>\n  </tbody>\n</table>\n</div>"
          },
          "metadata": {}
        }
      ]
    },
    {
      "metadata": {
        "_uuid": "46a4f9cc40395fe0d8490dc4ca38a28a6d69b141"
      },
      "cell_type": "markdown",
      "source": "Let's fix this by filtering out movies that have less than 100 reviews (this value was chosen based off the histogram from earlier)."
    },
    {
      "metadata": {
        "trusted": true,
        "_uuid": "3929f0c97b494b44428a4060e8db20d1fd8cd825"
      },
      "cell_type": "code",
      "source": "corr_starwars = corr_starwars.join(ratings['num of ratings'])\ncorr_starwars.head()",
      "execution_count": 21,
      "outputs": [
        {
          "output_type": "execute_result",
          "execution_count": 21,
          "data": {
            "text/plain": "                           Correlation  num of ratings\ntitle                                                 \n'Til There Was You (1997)     0.872872               9\n1-900 (1994)                 -0.645497               5\n101 Dalmatians (1996)         0.211132             109\n12 Angry Men (1957)           0.184289             125\n187 (1997)                    0.027398              41",
            "text/html": "<div>\n<style scoped>\n    .dataframe tbody tr th:only-of-type {\n        vertical-align: middle;\n    }\n\n    .dataframe tbody tr th {\n        vertical-align: top;\n    }\n\n    .dataframe thead th {\n        text-align: right;\n    }\n</style>\n<table border=\"1\" class=\"dataframe\">\n  <thead>\n    <tr style=\"text-align: right;\">\n      <th></th>\n      <th>Correlation</th>\n      <th>num of ratings</th>\n    </tr>\n    <tr>\n      <th>title</th>\n      <th></th>\n      <th></th>\n    </tr>\n  </thead>\n  <tbody>\n    <tr>\n      <th>'Til There Was You (1997)</th>\n      <td>0.872872</td>\n      <td>9</td>\n    </tr>\n    <tr>\n      <th>1-900 (1994)</th>\n      <td>-0.645497</td>\n      <td>5</td>\n    </tr>\n    <tr>\n      <th>101 Dalmatians (1996)</th>\n      <td>0.211132</td>\n      <td>109</td>\n    </tr>\n    <tr>\n      <th>12 Angry Men (1957)</th>\n      <td>0.184289</td>\n      <td>125</td>\n    </tr>\n    <tr>\n      <th>187 (1997)</th>\n      <td>0.027398</td>\n      <td>41</td>\n    </tr>\n  </tbody>\n</table>\n</div>"
          },
          "metadata": {}
        }
      ]
    },
    {
      "metadata": {
        "_uuid": "723a360f77912c49d7f4196c24630fbaf00ff58c"
      },
      "cell_type": "markdown",
      "source": "Now sort the values and notice how the titles make a lot more sense:"
    },
    {
      "metadata": {
        "trusted": true,
        "_uuid": "00ef3c7711d54c70ffde7b8b2a33e688beea8990"
      },
      "cell_type": "code",
      "source": "corr_starwars[corr_starwars['num of ratings']>100].sort_values('Correlation',ascending=False).head()",
      "execution_count": 22,
      "outputs": [
        {
          "output_type": "execute_result",
          "execution_count": 22,
          "data": {
            "text/plain": "                                                    Correlation  num of ratings\ntitle                                                                          \nStar Wars (1977)                                       1.000000             584\nEmpire Strikes Back, The (1980)                        0.748353             368\nReturn of the Jedi (1983)                              0.672556             507\nRaiders of the Lost Ark (1981)                         0.536117             420\nAustin Powers: International Man of Mystery (1997)     0.377433             130",
            "text/html": "<div>\n<style scoped>\n    .dataframe tbody tr th:only-of-type {\n        vertical-align: middle;\n    }\n\n    .dataframe tbody tr th {\n        vertical-align: top;\n    }\n\n    .dataframe thead th {\n        text-align: right;\n    }\n</style>\n<table border=\"1\" class=\"dataframe\">\n  <thead>\n    <tr style=\"text-align: right;\">\n      <th></th>\n      <th>Correlation</th>\n      <th>num of ratings</th>\n    </tr>\n    <tr>\n      <th>title</th>\n      <th></th>\n      <th></th>\n    </tr>\n  </thead>\n  <tbody>\n    <tr>\n      <th>Star Wars (1977)</th>\n      <td>1.000000</td>\n      <td>584</td>\n    </tr>\n    <tr>\n      <th>Empire Strikes Back, The (1980)</th>\n      <td>0.748353</td>\n      <td>368</td>\n    </tr>\n    <tr>\n      <th>Return of the Jedi (1983)</th>\n      <td>0.672556</td>\n      <td>507</td>\n    </tr>\n    <tr>\n      <th>Raiders of the Lost Ark (1981)</th>\n      <td>0.536117</td>\n      <td>420</td>\n    </tr>\n    <tr>\n      <th>Austin Powers: International Man of Mystery (1997)</th>\n      <td>0.377433</td>\n      <td>130</td>\n    </tr>\n  </tbody>\n</table>\n</div>"
          },
          "metadata": {}
        }
      ]
    },
    {
      "metadata": {
        "_uuid": "4f3f65a0bd0fc8a1024be5ae4011c9873ca72bec"
      },
      "cell_type": "markdown",
      "source": "Now the same for the comedy Liar Liar:"
    },
    {
      "metadata": {
        "trusted": true,
        "_uuid": "f100fb200d8b7d3977c506880657617332070400"
      },
      "cell_type": "code",
      "source": "corr_liarliar = pd.DataFrame(similar_to_liarliar,columns=['Correlation'])\ncorr_liarliar.dropna(inplace=True)\ncorr_liarliar = corr_liarliar.join(ratings['num of ratings'])\ncorr_liarliar[corr_liarliar['num of ratings']>100].sort_values('Correlation',ascending=False).head()",
      "execution_count": 23,
      "outputs": [
        {
          "output_type": "execute_result",
          "execution_count": 23,
          "data": {
            "text/plain": "                       Correlation  num of ratings\ntitle                                             \nLiar Liar (1997)          1.000000             485\nBatman Forever (1995)     0.516968             114\nMask, The (1994)          0.484650             129\nDown Periscope (1996)     0.472681             101\nCon Air (1997)            0.469828             137",
            "text/html": "<div>\n<style scoped>\n    .dataframe tbody tr th:only-of-type {\n        vertical-align: middle;\n    }\n\n    .dataframe tbody tr th {\n        vertical-align: top;\n    }\n\n    .dataframe thead th {\n        text-align: right;\n    }\n</style>\n<table border=\"1\" class=\"dataframe\">\n  <thead>\n    <tr style=\"text-align: right;\">\n      <th></th>\n      <th>Correlation</th>\n      <th>num of ratings</th>\n    </tr>\n    <tr>\n      <th>title</th>\n      <th></th>\n      <th></th>\n    </tr>\n  </thead>\n  <tbody>\n    <tr>\n      <th>Liar Liar (1997)</th>\n      <td>1.000000</td>\n      <td>485</td>\n    </tr>\n    <tr>\n      <th>Batman Forever (1995)</th>\n      <td>0.516968</td>\n      <td>114</td>\n    </tr>\n    <tr>\n      <th>Mask, The (1994)</th>\n      <td>0.484650</td>\n      <td>129</td>\n    </tr>\n    <tr>\n      <th>Down Periscope (1996)</th>\n      <td>0.472681</td>\n      <td>101</td>\n    </tr>\n    <tr>\n      <th>Con Air (1997)</th>\n      <td>0.469828</td>\n      <td>137</td>\n    </tr>\n  </tbody>\n</table>\n</div>"
          },
          "metadata": {}
        }
      ]
    }
  ],
  "metadata": {
    "kernelspec": {
      "display_name": "Python 3",
      "language": "python",
      "name": "python3"
    },
    "language_info": {
      "name": "python",
      "version": "3.6.6",
      "mimetype": "text/x-python",
      "codemirror_mode": {
        "name": "ipython",
        "version": 3
      },
      "pygments_lexer": "ipython3",
      "nbconvert_exporter": "python",
      "file_extension": ".py"
    }
  },
  "nbformat": 4,
  "nbformat_minor": 1
}